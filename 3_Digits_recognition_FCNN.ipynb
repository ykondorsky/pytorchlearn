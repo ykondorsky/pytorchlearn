{
 "cells": [
  {
   "cell_type": "markdown",
   "id": "4a7e84f7",
   "metadata": {},
   "source": [
    "# Полносвязная нейронная сеть для распознавания цифр в PyTorch"
   ]
  },
  {
   "cell_type": "code",
   "execution_count": 18,
   "id": "cfa41978",
   "metadata": {},
   "outputs": [],
   "source": [
    "import torch\n",
    "import torchvision\n",
    "import torchvision.transforms as transforms\n",
    "import torch.nn as nn\n",
    "import matplotlib.pyplot as plt"
   ]
  },
  {
   "cell_type": "code",
   "execution_count": 14,
   "id": "c7bcead7",
   "metadata": {},
   "outputs": [
    {
     "data": {
      "text/plain": [
       "device(type='cuda')"
      ]
     },
     "execution_count": 14,
     "metadata": {},
     "output_type": "execute_result"
    }
   ],
   "source": [
    "device = torch.device('cuda' if torch.cuda.is_available else 'cpu')\n",
    "device"
   ]
  },
  {
   "cell_type": "markdown",
   "id": "d2c5ca36",
   "metadata": {},
   "source": [
    "## Задание гиперпараметров"
   ]
  },
  {
   "cell_type": "code",
   "execution_count": 15,
   "id": "04bb7599",
   "metadata": {},
   "outputs": [],
   "source": [
    "input_size = 784 # 28x28\n",
    "hidden_size = 100\n",
    "num_classes = 10\n",
    "num_epochs = 5\n",
    "batch_size = 100\n",
    "learning_rate = 0.01"
   ]
  },
  {
   "cell_type": "markdown",
   "id": "f0c3b1b1",
   "metadata": {},
   "source": [
    "## Загрузка датасета"
   ]
  },
  {
   "cell_type": "code",
   "execution_count": 58,
   "id": "43370fa6",
   "metadata": {},
   "outputs": [],
   "source": [
    "train = torchvision.datasets.MNIST(root='./data', train=True, transform=transforms.ToTensor(), download=True) \n",
    "test = torchvision.datasets.MNIST(root='./data', train=False, transform=transforms.ToTensor(), download=False) \n",
    "train_loader = torch.utils.data.DataLoader(dataset=train, batch_size=batch_size, shuffle=True)\n",
    "test_loader = torch.utils.data.DataLoader(dataset=test, batch_size=batch_size, shuffle=False)"
   ]
  },
  {
   "cell_type": "code",
   "execution_count": 59,
   "id": "c779e6eb",
   "metadata": {},
   "outputs": [
    {
     "name": "stdout",
     "output_type": "stream",
     "text": [
      "torch.Size([100, 1, 28, 28]) torch.Size([100])\n"
     ]
    }
   ],
   "source": [
    "examples = iter(train_loader)\n",
    "samples, labels = examples.next()\n",
    "print(samples.shape, labels.shape)"
   ]
  },
  {
   "cell_type": "markdown",
   "id": "190ad8f9",
   "metadata": {},
   "source": [
    "## Примеры входных данных"
   ]
  },
  {
   "cell_type": "code",
   "execution_count": 93,
   "id": "b7ee1b5a",
   "metadata": {},
   "outputs": [
    {
     "data": {
      "image/png": "[encoded data removed]",
      "text/plain": [
       "<Figure size 432x288 with 6 Axes>"
      ]
     },
     "metadata": {
      "needs_background": "light"
     },
     "output_type": "display_data"
    }
   ],
   "source": [
    "for i in range(6):\n",
    "    plt.subplot(2, 3, i+1)\n",
    "    plt.imshow(samples[i][0], cmap='gray')\n",
    "plt.show()"
   ]
  },
  {
   "cell_type": "markdown",
   "id": "bbc4afd1",
   "metadata": {},
   "source": [
    "## Создание и обучение сети"
   ]
  },
  {
   "cell_type": "markdown",
   "id": "b13a4eb3",
   "metadata": {},
   "source": [
    "### Определение модели"
   ]
  },
  {
   "cell_type": "code",
   "execution_count": 61,
   "id": "e25f4492",
   "metadata": {},
   "outputs": [],
   "source": [
    "class NeuralNet(nn.Module):\n",
    "    def __init__(self, input_size, hidden_size, num_classes):\n",
    "        super(NeuralNet, self).__init__()\n",
    "        self.l1 = nn.Linear(input_size, hidden_size)\n",
    "        self.relu = nn.ReLU()\n",
    "        self.l2 = nn.Linear(hidden_size, num_classes)\n",
    "        \n",
    "    def forward(self, x):\n",
    "        out = self.l1(x)\n",
    "        out = self.relu(out)\n",
    "        out = self.l2(out)\n",
    "        return out"
   ]
  },
  {
   "cell_type": "markdown",
   "id": "d520a930",
   "metadata": {},
   "source": [
    "### Создание модели, определение функции потерь и оптимизатора"
   ]
  },
  {
   "cell_type": "code",
   "execution_count": 62,
   "id": "dae3b9b5",
   "metadata": {},
   "outputs": [],
   "source": [
    "model = NeuralNet(input_size, hidden_size, num_classes).to(device)\n",
    "loss_fn = nn.CrossEntropyLoss()\n",
    "optimizer = torch.optim.Adam(model.parameters(), lr = learning_rate)"
   ]
  },
  {
   "cell_type": "markdown",
   "id": "8a0289bb",
   "metadata": {},
   "source": [
    "### Цикл обучения"
   ]
  },
  {
   "cell_type": "code",
   "execution_count": 63,
   "id": "1d5857fe",
   "metadata": {},
   "outputs": [
    {
     "name": "stdout",
     "output_type": "stream",
     "text": [
      "epoch 1 / 5, step 100 / 600, loss = 0.190\n",
      "epoch 1 / 5, step 200 / 600, loss = 0.220\n",
      "epoch 1 / 5, step 300 / 600, loss = 0.317\n",
      "epoch 1 / 5, step 400 / 600, loss = 0.079\n",
      "epoch 1 / 5, step 500 / 600, loss = 0.189\n",
      "epoch 1 / 5, step 600 / 600, loss = 0.330\n",
      "epoch 2 / 5, step 100 / 600, loss = 0.100\n",
      "epoch 2 / 5, step 200 / 600, loss = 0.052\n",
      "epoch 2 / 5, step 300 / 600, loss = 0.154\n",
      "epoch 2 / 5, step 400 / 600, loss = 0.111\n",
      "epoch 2 / 5, step 500 / 600, loss = 0.039\n",
      "epoch 2 / 5, step 600 / 600, loss = 0.056\n",
      "epoch 3 / 5, step 100 / 600, loss = 0.087\n",
      "epoch 3 / 5, step 200 / 600, loss = 0.111\n",
      "epoch 3 / 5, step 300 / 600, loss = 0.039\n",
      "epoch 3 / 5, step 400 / 600, loss = 0.143\n",
      "epoch 3 / 5, step 500 / 600, loss = 0.109\n",
      "epoch 3 / 5, step 600 / 600, loss = 0.146\n",
      "epoch 4 / 5, step 100 / 600, loss = 0.170\n",
      "epoch 4 / 5, step 200 / 600, loss = 0.026\n",
      "epoch 4 / 5, step 300 / 600, loss = 0.064\n",
      "epoch 4 / 5, step 400 / 600, loss = 0.181\n",
      "epoch 4 / 5, step 500 / 600, loss = 0.219\n",
      "epoch 4 / 5, step 600 / 600, loss = 0.120\n",
      "epoch 5 / 5, step 100 / 600, loss = 0.093\n",
      "epoch 5 / 5, step 200 / 600, loss = 0.013\n",
      "epoch 5 / 5, step 300 / 600, loss = 0.081\n",
      "epoch 5 / 5, step 400 / 600, loss = 0.061\n",
      "epoch 5 / 5, step 500 / 600, loss = 0.037\n",
      "epoch 5 / 5, step 600 / 600, loss = 0.057\n"
     ]
    }
   ],
   "source": [
    "n_total_steps = len(train_loader)\n",
    "\n",
    "for epoch in range(num_epochs):\n",
    "    for i, (images, labels) in enumerate(train_loader):\n",
    "        images = images.reshape(-1, 28*28).to(device)\n",
    "        labels = labels.to(device)\n",
    "        \n",
    "        # прямой проход\n",
    "        outputs = model(images)\n",
    "        \n",
    "        # потери\n",
    "        loss = loss_fn(outputs, labels)\n",
    "        \n",
    "        # обратный проход\n",
    "        optimizer.zero_grad()\n",
    "        loss.backward()\n",
    "        \n",
    "        # обновление параметров\n",
    "        optimizer.step()\n",
    "        \n",
    "        if (i+1) % 100 == 0:\n",
    "            print(f'epoch {epoch+1} / {num_epochs}, step {i+1} / {n_total_steps}, loss = {loss.item():.3f}')"
   ]
  },
  {
   "cell_type": "markdown",
   "id": "2dafed08",
   "metadata": {},
   "source": [
    "### Расчёт точности"
   ]
  },
  {
   "cell_type": "code",
   "execution_count": 64,
   "id": "fe7754f9",
   "metadata": {},
   "outputs": [
    {
     "name": "stdout",
     "output_type": "stream",
     "text": [
      "accuracy = 0.97\n"
     ]
    }
   ],
   "source": [
    "with torch.no_grad():\n",
    "    n_correct = 0\n",
    "    n_samples = 0\n",
    "    for images, labels in test_loader:\n",
    "        images = images.reshape(-1, 28*28).to(device)\n",
    "        labels = labels.to(device)\n",
    "        outputs = model(images)\n",
    "        \n",
    "        _, predictions = torch.max(outputs, 1)\n",
    "        \n",
    "        n_samples += labels.shape[0]\n",
    "        n_correct = (predictions == labels).sum().item()\n",
    "    \n",
    "    acc = 100.0 * n_correct / n_samples\n",
    "    print(f'accuracy = {acc:.2f}')"
   ]
  },
  {
   "cell_type": "markdown",
   "id": "2a0a8a2f",
   "metadata": {},
   "source": [
    "### Демонстрация работы нейронной сети"
   ]
  },
  {
   "cell_type": "code",
   "execution_count": 92,
   "id": "df6f4b3e",
   "metadata": {},
   "outputs": [
    {
     "name": "stdout",
     "output_type": "stream",
     "text": [
      "Prediction = tensor([9], device='cuda:0')\n"
     ]
    },
    {
     "data": {
      "image/png": "[encoded data removed]",
      "text/plain": [
       "<Figure size 360x144 with 1 Axes>"
      ]
     },
     "metadata": {
      "needs_background": "light"
     },
     "output_type": "display_data"
    }
   ],
   "source": [
    "# вывести цифру и предсказанный класс (можно запускать несколько раз)\n",
    "to_predict = iter(train_loader)\n",
    "sample, label = to_predict.next()\n",
    "output = model(sample[0].reshape(-1, 28*28).to(device))\n",
    "_, prediction = torch.max(output, 1)\n",
    "plt.figure(figsize = (5,2))\n",
    "plt.imshow(sample[0][0], cmap='gray')\n",
    "print(f'Prediction = {prediction}')"
   ]
  }
 ],
 "metadata": {
  "kernelspec": {
   "display_name": "Python 3 (ipykernel)",
   "language": "python",
   "name": "python3"
  },
  "language_info": {
   "codemirror_mode": {
    "name": "ipython",
    "version": 3
   },
   "file_extension": ".py",
   "mimetype": "text/x-python",
   "name": "python",
   "nbconvert_exporter": "python",
   "pygments_lexer": "ipython3",
   "version": "3.9.7"
  }
 },
 "nbformat": 4,
 "nbformat_minor": 5
}
