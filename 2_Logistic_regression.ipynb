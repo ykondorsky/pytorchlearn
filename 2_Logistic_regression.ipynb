{
 "cells": [
  {
   "cell_type": "markdown",
   "id": "2182b316",
   "metadata": {},
   "source": [
    "# Логистическая регрессия в PyTorch"
   ]
  },
  {
   "cell_type": "code",
   "execution_count": 1,
   "id": "df1292a8",
   "metadata": {},
   "outputs": [],
   "source": [
    "import torch\n",
    "import torch.nn as nn\n",
    "import numpy as np\n",
    "from sklearn import datasets\n",
    "from sklearn.preprocessing import StandardScaler\n",
    "from sklearn.model_selection import train_test_split"
   ]
  },
  {
   "cell_type": "markdown",
   "id": "f671b883",
   "metadata": {},
   "source": [
    "\n",
    "### Подготовка данных"
   ]
  },
  {
   "cell_type": "code",
   "execution_count": 27,
   "id": "96341595",
   "metadata": {},
   "outputs": [],
   "source": [
    "# загрузка датасета из библиотеки sklearn\n",
    "bc = datasets.load_breast_cancer()\n",
    "X, y = bc.data, bc.target"
   ]
  },
  {
   "cell_type": "code",
   "execution_count": 28,
   "id": "516ebb8d",
   "metadata": {},
   "outputs": [],
   "source": [
    "n_samples, n_features = X.shape"
   ]
  },
  {
   "cell_type": "code",
   "execution_count": 29,
   "id": "54a6e2ac",
   "metadata": {},
   "outputs": [],
   "source": [
    "# разбивка на тренировочную и валидационную выборку\n",
    "X_train, X_test, y_train, y_test = train_test_split(X, y, test_size=0.2, random_state=42)"
   ]
  },
  {
   "cell_type": "code",
   "execution_count": 30,
   "id": "fb1b2a7c",
   "metadata": {},
   "outputs": [],
   "source": [
    "# стандартизация данных\n",
    "sc = StandardScaler()\n",
    "X_train = sc.fit_transform(X_train)\n",
    "X_test = sc.transform(X_test)"
   ]
  },
  {
   "cell_type": "code",
   "execution_count": 31,
   "id": "680acb2b",
   "metadata": {},
   "outputs": [],
   "source": [
    "# преобразование в тензоры\n",
    "X_train = torch.from_numpy(X_train.astype(np.float32))\n",
    "X_test = torch.from_numpy(X_test.astype(np.float32))\n",
    "y_train = torch.from_numpy(y_train.astype(np.float32))\n",
    "y_test = torch.from_numpy(y_test.astype(np.float32))"
   ]
  },
  {
   "cell_type": "code",
   "execution_count": 32,
   "id": "85c37681",
   "metadata": {},
   "outputs": [],
   "source": [
    "# преобразование размерностей\n",
    "y_train = y_train.view(y_train.shape[0], 1)\n",
    "y_test = y_test.view(y_test.shape[0], 1)"
   ]
  },
  {
   "cell_type": "markdown",
   "id": "99b06540",
   "metadata": {},
   "source": [
    "### Определение модели"
   ]
  },
  {
   "cell_type": "code",
   "execution_count": 33,
   "id": "e1fef36c",
   "metadata": {},
   "outputs": [],
   "source": [
    "class LogisticRegression(nn.Module):\n",
    "    def __init__(self, n_input_features):\n",
    "        super(LogisticRegression, self).__init__()\n",
    "        self.linear = nn.Linear(n_input_features, 1)\n",
    "        \n",
    "    def forward(self, x):\n",
    "        y_pred = torch.sigmoid(self.linear(x))\n",
    "        return y_pred"
   ]
  },
  {
   "cell_type": "code",
   "execution_count": 34,
   "id": "76559db5",
   "metadata": {},
   "outputs": [],
   "source": [
    "model = LogisticRegression(n_features)"
   ]
  },
  {
   "cell_type": "markdown",
   "id": "6ee611d7",
   "metadata": {},
   "source": [
    "### Задание функции потерь и оптимизатора"
   ]
  },
  {
   "cell_type": "code",
   "execution_count": 35,
   "id": "c1f4600b",
   "metadata": {},
   "outputs": [],
   "source": [
    "learning_rate = 0.01\n",
    "loss_fn = nn.BCELoss()\n",
    "optimizer = torch.optim.SGD(model.parameters(), lr=learning_rate)"
   ]
  },
  {
   "cell_type": "markdown",
   "id": "b237dda0",
   "metadata": {},
   "source": [
    "### Цикл обучения"
   ]
  },
  {
   "cell_type": "code",
   "execution_count": 36,
   "id": "e00dd310",
   "metadata": {},
   "outputs": [
    {
     "name": "stdout",
     "output_type": "stream",
     "text": [
      "epoch 10: loss = 0.499\n",
      "epoch 20: loss = 0.435\n",
      "epoch 30: loss = 0.390\n",
      "epoch 40: loss = 0.357\n",
      "epoch 50: loss = 0.331\n",
      "epoch 60: loss = 0.310\n",
      "epoch 70: loss = 0.293\n",
      "epoch 80: loss = 0.278\n",
      "epoch 90: loss = 0.266\n",
      "epoch 100: loss = 0.255\n"
     ]
    }
   ],
   "source": [
    "num_epochs = 100\n",
    "for epoch in range(num_epochs):\n",
    "    # прямой проход\n",
    "    y_pred = model(X_train)\n",
    "    \n",
    "    # потери\n",
    "    loss = loss_fn(y_pred, y_train)\n",
    "    \n",
    "    # обратный проход\n",
    "    loss.backward()\n",
    "    \n",
    "    # обновить веса\n",
    "    optimizer.step()\n",
    "    \n",
    "    # обнулить градиенты\n",
    "    optimizer.zero_grad()\n",
    "    \n",
    "    if (epoch+1) % 10 == 0:\n",
    "        print(f'epoch {epoch+1}: loss = {loss.item():.3f}')"
   ]
  },
  {
   "cell_type": "code",
   "execution_count": 37,
   "id": "94b26036",
   "metadata": {},
   "outputs": [
    {
     "name": "stdout",
     "output_type": "stream",
     "text": [
      "accuracy = 0.965\n"
     ]
    }
   ],
   "source": [
    "with torch.no_grad():\n",
    "    predicted_proba = model(X_test)\n",
    "    predicted_labels = predicted_proba.round()\n",
    "    accuracy = predicted_labels.eq(y_test).sum() / float(y_test.shape[0])\n",
    "    print(f'accuracy = {accuracy:.3f}')"
   ]
  }
 ],
 "metadata": {
  "kernelspec": {
   "display_name": "Python 3 (ipykernel)",
   "language": "python",
   "name": "python3"
  },
  "language_info": {
   "codemirror_mode": {
    "name": "ipython",
    "version": 3
   },
   "file_extension": ".py",
   "mimetype": "text/x-python",
   "name": "python",
   "nbconvert_exporter": "python",
   "pygments_lexer": "ipython3",
   "version": "3.9.7"
  }
 },
 "nbformat": 4,
 "nbformat_minor": 5
}
