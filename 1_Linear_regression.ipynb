{
 "cells": [
  {
   "cell_type": "markdown",
   "id": "6d02ee29",
   "metadata": {},
   "source": [
    "# Линейная регрессия в PyTorch"
   ]
  },
  {
   "cell_type": "markdown",
   "id": "ca85784f",
   "metadata": {},
   "source": [
    "## Проверка работоспособности PyTorch и доступности CUDA"
   ]
  },
  {
   "cell_type": "code",
   "execution_count": 1,
   "id": "5fc0891c",
   "metadata": {},
   "outputs": [],
   "source": [
    "import torch"
   ]
  },
  {
   "cell_type": "code",
   "execution_count": 32,
   "id": "5be4d4e5",
   "metadata": {},
   "outputs": [
    {
     "data": {
      "text/plain": [
       "True"
      ]
     },
     "execution_count": 32,
     "metadata": {},
     "output_type": "execute_result"
    }
   ],
   "source": [
    "torch.cuda.is_available()"
   ]
  },
  {
   "cell_type": "code",
   "execution_count": 3,
   "id": "02c3fb84",
   "metadata": {},
   "outputs": [
    {
     "name": "stdout",
     "output_type": "stream",
     "text": [
      "GeForce RTX 2080 SUPER\n"
     ]
    }
   ],
   "source": [
    "n_cudas = torch.cuda.device_count()\n",
    "for i in range(n_cudas):\n",
    "  print(torch.cuda.get_device_name(i))"
   ]
  },
  {
   "cell_type": "code",
   "execution_count": 5,
   "id": "a49db594",
   "metadata": {},
   "outputs": [
    {
     "name": "stdout",
     "output_type": "stream",
     "text": [
      "tensor([-0.6457,  0.5841, -1.1232], requires_grad=True)\n"
     ]
    }
   ],
   "source": [
    "x = torch.randn(3, requires_grad=True)\n",
    "print(x)"
   ]
  },
  {
   "cell_type": "markdown",
   "id": "2d84193e",
   "metadata": {},
   "source": [
    "## Реализация линейной регрессии"
   ]
  },
  {
   "cell_type": "code",
   "execution_count": 31,
   "id": "e03bccfa",
   "metadata": {},
   "outputs": [],
   "source": [
    "import torch.nn as nn\n",
    "import numpy as np\n",
    "import matplotlib.pyplot as plt\n",
    "from sklearn import datasets"
   ]
  },
  {
   "cell_type": "markdown",
   "id": "11edaa83",
   "metadata": {},
   "source": [
    "### Подготовка данных"
   ]
  },
  {
   "cell_type": "code",
   "execution_count": 67,
   "id": "5eb99972",
   "metadata": {},
   "outputs": [],
   "source": [
    "# генерация датасета для задачи регрессии\n",
    "X_numpy, Y_numpy = datasets.make_regression(n_samples=50, n_features=1, noise=20, random_state=1)"
   ]
  },
  {
   "cell_type": "code",
   "execution_count": 68,
   "id": "d93bd354",
   "metadata": {},
   "outputs": [],
   "source": [
    "# превращение массивов numpy в тензоры pytorch\n",
    "X = torch.from_numpy(X_numpy.astype(np.float32))\n",
    "Y = torch.from_numpy(Y_numpy.astype(np.float32))"
   ]
  },
  {
   "cell_type": "code",
   "execution_count": 69,
   "id": "bb35c297",
   "metadata": {},
   "outputs": [
    {
     "data": {
      "text/plain": [
       "torch.Size([50, 1])"
      ]
     },
     "execution_count": 69,
     "metadata": {},
     "output_type": "execute_result"
    }
   ],
   "source": [
    "# преобразование размерностей\n",
    "Y = Y.view(Y.shape[0], 1)\n",
    "Y.shape"
   ]
  },
  {
   "cell_type": "markdown",
   "id": "8afed7f9",
   "metadata": {},
   "source": [
    "### Определение модели"
   ]
  },
  {
   "cell_type": "code",
   "execution_count": 70,
   "id": "6755271f",
   "metadata": {},
   "outputs": [],
   "source": [
    "input_size = 1\n",
    "output_size = 1\n",
    "\n",
    "model = nn.Linear(input_size, output_size)"
   ]
  },
  {
   "cell_type": "markdown",
   "id": "df288104",
   "metadata": {},
   "source": [
    "### Задание функции потерь и оптимизатора"
   ]
  },
  {
   "cell_type": "code",
   "execution_count": 71,
   "id": "4aafeaec",
   "metadata": {},
   "outputs": [],
   "source": [
    "learning_rate = 0.01\n",
    "loss_fn = nn.MSELoss()\n",
    "optimizer = torch.optim.SGD(model.parameters(), lr = learning_rate)"
   ]
  },
  {
   "cell_type": "markdown",
   "id": "f25878cb",
   "metadata": {},
   "source": [
    "### Цикл обучения"
   ]
  },
  {
   "cell_type": "code",
   "execution_count": 72,
   "id": "4007313a",
   "metadata": {},
   "outputs": [
    {
     "name": "stdout",
     "output_type": "stream",
     "text": [
      "epoch 10: loss = 5225.394\n",
      "epoch 20: loss = 3661.216\n",
      "epoch 30: loss = 2590.504\n",
      "epoch 40: loss = 1857.517\n",
      "epoch 50: loss = 1355.687\n",
      "epoch 60: loss = 1012.088\n",
      "epoch 70: loss = 776.809\n",
      "epoch 80: loss = 615.690\n",
      "epoch 90: loss = 505.348\n",
      "epoch 100: loss = 429.774\n"
     ]
    }
   ],
   "source": [
    "num_epochs = 100\n",
    "for epoch in range(num_epochs):\n",
    "    # прямой проход\n",
    "    Y_pred = model(X)\n",
    "    \n",
    "    # потери\n",
    "    loss = loss_fn(Y_pred, Y)\n",
    "    \n",
    "    # обратный проход (вычисление градиентов)\n",
    "    loss.backward()\n",
    "    \n",
    "    # обновление параметров\n",
    "    optimizer.step()\n",
    "    \n",
    "    # обнуление градиентов \n",
    "    optimizer.zero_grad()\n",
    "    \n",
    "    if (epoch+1) % 10 == 0:\n",
    "        print(f'epoch {epoch+1}: loss = {loss.item():.3f}')"
   ]
  },
  {
   "cell_type": "markdown",
   "id": "8cd79122",
   "metadata": {},
   "source": [
    "### Вывод предсказанных значений на график"
   ]
  },
  {
   "cell_type": "code",
   "execution_count": 73,
   "id": "f1489822",
   "metadata": {},
   "outputs": [
    {
     "data": {
      "image/png": "[encoded data removed]",
      "text/plain": [
       "<Figure size 432x288 with 1 Axes>"
      ]
     },
     "metadata": {
      "needs_background": "light"
     },
     "output_type": "display_data"
    }
   ],
   "source": [
    "predicted = model(X).detach().numpy()\n",
    "plt.plot(X_numpy, Y_numpy, 'ro')\n",
    "plt.plot(X_numpy, predicted, 'b')\n",
    "plt.show()"
   ]
  }
 ],
 "metadata": {
  "kernelspec": {
   "display_name": "Python 3 (ipykernel)",
   "language": "python",
   "name": "python3"
  },
  "language_info": {
   "codemirror_mode": {
    "name": "ipython",
    "version": 3
   },
   "file_extension": ".py",
   "mimetype": "text/x-python",
   "name": "python",
   "nbconvert_exporter": "python",
   "pygments_lexer": "ipython3",
   "version": "3.9.7"
  }
 },
 "nbformat": 4,
 "nbformat_minor": 5
}
